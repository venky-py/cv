{
 "cells": [
  {
   "cell_type": "code",
   "execution_count": 5,
   "id": "1d2485af-30c8-48fe-b317-9ea00f3fa4bc",
   "metadata": {},
   "outputs": [],
   "source": [
    "import cv2\n",
    "import matplotlib.pyplot as plt\n",
    "import numpy as np"
   ]
  },
  {
   "cell_type": "code",
   "execution_count": 7,
   "id": "e5c998fb-b6a9-4abf-b9e2-f99a8d4947a4",
   "metadata": {},
   "outputs": [],
   "source": [
    "image = cv2.imread('images/lenna.png', 0)"
   ]
  },
  {
   "cell_type": "code",
   "execution_count": 11,
   "id": "9b4282ef-8cd1-47ef-a00e-df7642aa3b7a",
   "metadata": {},
   "outputs": [],
   "source": [
    "# Sobel parameters: ksize, dx dy, ddepth\n",
    "sobelx = cv2.Sobel(image, cv2.CV_64F, 1, 0, ksize=3)     # Sobel for Horizontal edges\n",
    "sobely = cv2.Sobel(image, cv2.CV_64F, 0, 1, ksize=3)     # Sobel for Vertical edges\n",
    "\n",
    "# Combine the sobel images(optional)\n",
    "combined_sobel = cv2.add(sobelx, sobely)"
   ]
  },
  {
   "cell_type": "code",
   "execution_count": 13,
   "id": "bda8d056-f44c-4685-8a61-2678064d6e24",
   "metadata": {},
   "outputs": [],
   "source": [
    "cv2.imshow('Sobel X', sobelx)\n",
    "cv2.imshow('Sobel Y', sobely)\n",
    "cv2.imshow('Combined', combined_sobel)\n",
    "cv2.waitKey(0)\n",
    "cv2.destroyAllWindows()"
   ]
  },
  {
   "cell_type": "markdown",
   "id": "75ed4d50-6387-488f-9bc0-783f7f3966db",
   "metadata": {},
   "source": [
    "#### Scharr Operator"
   ]
  },
  {
   "cell_type": "code",
   "execution_count": 18,
   "id": "c55475ee-7fcb-4e2a-8bce-fadf3ec2c971",
   "metadata": {},
   "outputs": [],
   "source": [
    "fieldx = cv2.Scharr(image, cv2.CV_32F, 1, 0) / 15.34\n",
    "\n",
    "fieldy = cv2.Scharr(image, cv2.CV_32F, 0, 1) / 15.34\n",
    "\n",
    "combined_scharr = cv2.add(fieldx, fieldy)"
   ]
  },
  {
   "cell_type": "code",
   "execution_count": 20,
   "id": "6e3981ef-6abd-43ba-983f-f64b6d2c5fd0",
   "metadata": {},
   "outputs": [],
   "source": [
    "cv2.imshow('Scharr X', fieldx)\n",
    "cv2.imshow('Scharr Y', fieldy)\n",
    "cv2.imshow('Combined Scharr', combined_scharr)\n",
    "cv2.waitKey(0)\n",
    "cv2.destroyAllWindows()"
   ]
  },
  {
   "cell_type": "code",
   "execution_count": null,
   "id": "511709ea-377b-4655-80a8-902085fad4ac",
   "metadata": {},
   "outputs": [],
   "source": []
  }
 ],
 "metadata": {
  "kernelspec": {
   "display_name": "Python 3 (ipykernel)",
   "language": "python",
   "name": "python3"
  },
  "language_info": {
   "codemirror_mode": {
    "name": "ipython",
    "version": 3
   },
   "file_extension": ".py",
   "mimetype": "text/x-python",
   "name": "python",
   "nbconvert_exporter": "python",
   "pygments_lexer": "ipython3",
   "version": "3.12.4"
  }
 },
 "nbformat": 4,
 "nbformat_minor": 5
}
