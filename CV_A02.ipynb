{
 "cells": [
  {
   "cell_type": "markdown",
   "id": "403eac86-149b-4f2e-98c6-656a414ac61c",
   "metadata": {},
   "source": [
    "## Assignment 02\n",
    "<ul>\n",
    "Name : ________________________ <br>\n",
    "PRN : _________________________\n",
    "</ul>"
   ]
  },
  {
   "cell_type": "code",
   "execution_count": 2,
   "id": "83a05aaa-512e-49c7-825a-5aa348b4da25",
   "metadata": {},
   "outputs": [],
   "source": [
    "import cv2\n",
    "import numpy as np\n",
    "import matplotlib.pyplot as plt"
   ]
  },
  {
   "cell_type": "code",
   "execution_count": 3,
   "id": "2aa08010-08fd-4cd9-a76a-d35c0b5573d5",
   "metadata": {},
   "outputs": [],
   "source": [
    "image = cv2.imread('images/sachin.jpg')"
   ]
  },
  {
   "cell_type": "code",
   "execution_count": null,
   "id": "ffad5152-8cee-4a62-9cee-f3fb443f8272",
   "metadata": {},
   "outputs": [],
   "source": [
    "cv2.imshow('Image', image)\n",
    "cv2.waitKey(0)\n",
    "cv2.destroyAllWindows()"
   ]
  },
  {
   "cell_type": "code",
   "execution_count": 11,
   "id": "f1e882b9-8003-4a18-b589-3c3a23c1ff8b",
   "metadata": {},
   "outputs": [],
   "source": [
    "image = cv2.imread('images/sachin.jpg')\n",
    "cv2.line(image, (0,0), (image.shape[1]//2, image.shape[0]//2), (0, 0, 255), 2);\n",
    "\n",
    "cv2.imshow('Image with Line', image)\n",
    "cv2.waitKey(0)\n",
    "cv2.destroyAllWindows()"
   ]
  },
  {
   "cell_type": "code",
   "execution_count": 13,
   "id": "cea7e8af-1301-44a1-b577-c7610cc710af",
   "metadata": {},
   "outputs": [],
   "source": [
    "image = cv2.imread('images/sachin.jpg')\n",
    "cv2.rectangle(image, (50, 50), (50+300, 50+400), (0, 0, 255), 10)\n",
    "\n",
    "cv2.imshow('Image with Rectangle', image)\n",
    "cv2.waitKey(0)\n",
    "cv2.destroyAllWindows()"
   ]
  },
  {
   "cell_type": "code",
   "execution_count": null,
   "id": "35d104ce-2e42-441c-89a0-3fade7cec391",
   "metadata": {},
   "outputs": [],
   "source": []
  }
 ],
 "metadata": {
  "kernelspec": {
   "display_name": "Python 3 (ipykernel)",
   "language": "python",
   "name": "python3"
  },
  "language_info": {
   "codemirror_mode": {
    "name": "ipython",
    "version": 3
   },
   "file_extension": ".py",
   "mimetype": "text/x-python",
   "name": "python",
   "nbconvert_exporter": "python",
   "pygments_lexer": "ipython3",
   "version": "3.12.4"
  }
 },
 "nbformat": 4,
 "nbformat_minor": 5
}
